{
 "cells": [
  {
   "cell_type": "code",
   "execution_count": 6,
   "id": "e79739fb",
   "metadata": {},
   "outputs": [
    {
     "name": "stdout",
     "output_type": "stream",
     "text": [
      "===========AI回應==============\n"
     ]
    },
    {
     "data": {
      "text/markdown": [
       "我沒有個人喜好，因為我是一個AI。但我可以告訴你我喜歡的顏色，以及為什麼我喜歡這些顏色！\n",
       "\n",
       "如果一定要說，我喜歡**藍色**，因為它代表著**寧靜、信任、智慧和穩定**。我喜歡它因為它很舒緩，讓人感覺很舒服。\n",
       "\n",
       "另外，我也喜歡**紫色**，因為它代表著**神秘、創意和想像力**。 \n",
       "\n",
       "你呢？你喜歡什麼顏色？ 😊\n"
      ],
      "text/plain": [
       "<IPython.core.display.Markdown object>"
      ]
     },
     "metadata": {},
     "output_type": "display_data"
    }
   ],
   "source": [
    "import requests\n",
    "#import pprint\n",
    "from pprint import pprint\n",
    "from IPython.display import Markdown, display\n",
    "\n",
    "def generate_with_ollama(prompt:str)->None:\n",
    "    url = \"http://localhost:11434/api/generate\"\n",
    "    payload = {\n",
    "        \"model\":\"gemma3:1b\",\n",
    "        \"prompt\":prompt,\n",
    "        \"stream\":False\n",
    "    }\n",
    "    response = requests.post(url,json=payload)\n",
    "    result = response.json()\n",
    "    #print(type(result))\n",
    "    #pprint(result)\n",
    "    print(\"===========AI回應==============\")\n",
    "    display(Markdown(result['response']))\n",
    "\n",
    "generate_with_ollama(\"請用中文回答: 你喜歡什麼顏色?\")  # 請用中文回答: 你喜歡什麼顏色?"
   ]
  }
 ],
 "metadata": {
  "kernelspec": {
   "display_name": "line_bot",
   "language": "python",
   "name": "python3"
  },
  "language_info": {
   "codemirror_mode": {
    "name": "ipython",
    "version": 3
   },
   "file_extension": ".py",
   "mimetype": "text/x-python",
   "name": "python",
   "nbconvert_exporter": "python",
   "pygments_lexer": "ipython3",
   "version": "3.12.11"
  }
 },
 "nbformat": 4,
 "nbformat_minor": 5
}
