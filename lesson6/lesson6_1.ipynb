{
 "cells": [
  {
   "cell_type": "code",
   "execution_count": 1,
   "id": "6bc605e1",
   "metadata": {},
   "outputs": [
    {
     "data": {
      "text/plain": [
       "('小明', 20, 175.5)"
      ]
     },
     "execution_count": 1,
     "metadata": {},
     "output_type": "execute_result"
    }
   ],
   "source": [
    "# 變數 (Variable)\n",
    "name = \"小明\"\n",
    "age = 20\n",
    "height = 175.5\n",
    "\n",
    "name, age, height #這是tuple\n"
   ]
  },
  {
   "cell_type": "code",
   "execution_count": 3,
   "id": "69c9539f",
   "metadata": {},
   "outputs": [
    {
     "name": "stdout",
     "output_type": "stream",
     "text": [
      "<class 'list'>\n",
      "水果清單: ['蘋果', '香蕉', '橘子']\n",
      "第一個水果: 蘋果\n",
      "反轉後的水果清單: ['橘子', '香蕉', '蘋果']\n"
     ]
    }
   ],
   "source": [
    "fruit = [\"蘋果\", \"香蕉\", \"橘子\"]\n",
    "print(type(fruit))  # <class 'list'>\n",
    "print(\"水果清單:\", fruit)\n",
    "print(\"第一個水果:\", fruit[0])\n",
    "fruit.reverse()  # 反轉列表\n",
    "print(\"反轉後的水果清單:\", fruit)\n"
   ]
  }
 ],
 "metadata": {
  "kernelspec": {
   "display_name": "line_bot",
   "language": "python",
   "name": "python3"
  },
  "language_info": {
   "codemirror_mode": {
    "name": "ipython",
    "version": 3
   },
   "file_extension": ".py",
   "mimetype": "text/x-python",
   "name": "python",
   "nbconvert_exporter": "python",
   "pygments_lexer": "ipython3",
   "version": "3.12.11"
  }
 },
 "nbformat": 4,
 "nbformat_minor": 5
}
