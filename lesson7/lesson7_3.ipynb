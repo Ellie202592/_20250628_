{
 "cells": [
  {
   "cell_type": "code",
   "execution_count": 4,
   "id": "13b85b97",
   "metadata": {},
   "outputs": [
    {
     "name": "stdout",
     "output_type": "stream",
     "text": [
      "人工智慧 (AI) 聽起來很神奇，但它的基本工作原理其實可以比喻成**教導電腦如何從經驗中學習和思考，使其能夠執行過去需要人類智慧才能完成的任務**。\n",
      "\n",
      "你可以把它想像\n",
      "成一個非常有條理的學生，學習過程主要分為以下幾個步驟：\n",
      "\n",
      "### 一、 數據收集與準備 (Data Collection & Preparation) - AI的「教材」\n",
      "\n",
      "*   **收集數據：** AI 學習的第一\n",
      "步是獲取大量的「數據」(data)。這些數據是AI學習的「教材」，可以是文字、圖片、聲音、數字、影片等各種形式。例如，如果你想讓AI辨識貓咪，你需要給它看\n",
      "數百萬張貓咪和非貓咪的圖片。\n",
      "*   **清理與標記：** 這些原始數據通常需要被「清理」和「標記」。清理是去除錯誤、重複或不完整的數據。標記\n",
      " (Labeling) 則是告訴AI這些數據代表什麼，例如，在貓咪圖片上標註「這是貓咪」，在非貓咪圖片上標註「這不是貓咪」。這就像老師在圖畫書\n",
      "上寫下物體的名稱，告訴學生這是什麼。\n",
      "\n",
      "### 二、 模型選擇與設計 (Model Selection & Design) - AI的「學習方法」\n",
      "\n",
      "*   **選擇演算法：** AI 並不是天生就\n",
      "聰明，它需要透過「演算法」(Algorithms) 和「模型」(Models) 來學習。演算法是一套電腦可以遵循的數學指令或規則，而模型則是這些演算法在特定數據上學習後所形成的知識\n",
      "結構。\n",
      "*   **常見的學習方法：**\n",
      "    *   **機器學習 (Machine Learning, ML)：** 這是實現人工智慧的核心方法之一。機器學習是指透過演算法讓電腦從數據中自動學習，而\n",
      "不需要被明確地編程。\n",
      "    *   **深度學習 (Deep Learning, DL)：** 它是機器學習的一個子領域，特別擅長處理非結構化數據（如圖像、語音）。深度學習特別依\n",
      "賴於「神經網路」(Neural Networks)，這些網路結構受到人腦神經元的啟發，擁有許多層次的「節點」，可以處理非常複雜的模式。\n",
      "\n",
      "### 三、 模型訓練 (Model Training) -\n",
      " AI的「學習過程」\n",
      "\n",
      "*   **模式識別：** 這是 AI 學習的關鍵階段。研究人員會將準備好的數據輸入到選擇好的模型和演算法中。模型會從數據中尋找模式\n",
      "、規律和關聯性。\n",
      "*   **調整參數：** 在訓練過程中，模型會不斷地調整其內部參數（就像學生根據老師的糾正不斷調整自己的解題方法），以最小化預測錯誤\n",
      "。這個過程通常需要大量的計算能力。\n",
      "*   **迭代學習：** 這個學習過程是迭代的，模型會一遍又一遍地分析數據，每次都變得更準確。就像一個學生反覆練習一道數學題\n",
      "，直到掌握為止。\n",
      "\n",
      "### 四、 模型評估 (Model Evaluation) - AI的「考試」\n",
      "\n",
      "*   **測試與驗證：** 當模型訓練完成後，會使用一部分它從未見過的「測試數據\n",
      "」來評估它的表現。這就像學生在學習完畢後進行考試，看看他是否真正理解了知識。\n",
      "*   **衡量準確性：** 評估的目的是衡量模型的準確性、效率\n",
      "和泛化能力（即對新數據做出正確判斷的能力）。如果表現不佳，可能需要回溯到數據準備或模型設計階段重新調整。\n",
      "\n",
      "### 五、 部署與應用 (Deployment & Application) - AI的「\n",
      "實踐」\n",
      "\n",
      "*   **投入使用：** 一旦模型訓練完成並驗證有效，它就可以被部署到實際應用中，對新的、未見過的數據進行預測或做出決策。\n",
      "*   **\n",
      "實際應用舉例：**\n",
      "    *   **圖像識別：** 給AI一張新圖片，它能辨識出圖片中的物體（例如：這是貓，那是狗）。\n",
      "    *   **語音助理：** 你\n",
      "說話，它能理解你的指令並做出回應（如Siri、Google Assistant）。\n",
      "    *   **推薦系統：** 根據你過去的購買或瀏覽歷史，推薦你可能喜歡的商品或內容（如Netflix\n",
      "、Amazon）。\n",
      "    *   **自動駕駛：** 辨識路況、交通號誌，做出行駛決策。\n",
      "\n",
      "### 總結來說：\n",
      "\n",
      "AI 的工作原理就是透過給予電腦**大量的數據**、\n",
      "運用**聰明的演算法**，讓電腦從中**學習、辨識模式**，並基於這些學習成果來進行**預測、分類或決策**。它不是真正的「思考」，而是非常高效、大規模\n",
      "地執行模式識別和數據處理。\n"
     ]
    }
   ],
   "source": [
    "from google import genai\n",
    "\n",
    "client = genai.Client()\n",
    "response = client.models.generate_content_stream(\n",
    "    model=\"gemini-2.5-flash\",\n",
    "    contents=[\"AI是如何工作的(請使用繁體中文回答)?\"]\n",
    ")\n",
    "for chunk in response:\n",
    "    print(chunk.text)"
   ]
  },
  {
   "cell_type": "code",
   "execution_count": 3,
   "id": "7b549f2c",
   "metadata": {},
   "outputs": [
    {
     "name": "stdout",
     "output_type": "stream",
     "text": [
      "5\n",
      "9\n",
      "10\n"
     ]
    }
   ],
   "source": [
    "for item in [5, 9, 10]:\n",
    "    print(item)"
   ]
  },
  {
   "cell_type": "code",
   "execution_count": 6,
   "id": "820e074d",
   "metadata": {},
   "outputs": [
    {
     "data": {
      "text/markdown": [
       "這是一隻**棕熊 (Brown Bear)**。在北美洲，尤其是體型較大、背部有明顯隆起的亞種，常被稱為**灰熊 (Grizzly Bear)**。\n",
       "\n",
       "以下是關於棕熊的一些資訊：\n",
       "\n",
       "1.  **外觀特徵：**\n",
       "    *   **體型龐大：** 棕熊是陸地上體型最大的食肉動物之一（僅次於北極熊和科迪亞克棕熊）。成年雄性體重可達300-600公斤，甚至更大，站立時身高可達2-3公尺。\n",
       "    *   **毛色：** 毛色多變，從淺黃褐色、紅棕色到深棕色甚至接近黑色都有，但通常是棕色系。\n",
       "    *   **肩部隆起：** 牠們肩部有一個明顯的肌肉隆起，這是區分棕熊與其他熊類（如黑熊）的重要特徵，這個隆起為牠們挖掘和衝刺提供了強大的力量。\n",
       "    *   **爪子：** 擁有長而彎曲的非收縮性爪子，適合挖掘土壤、根莖和捕捉獵物。\n",
       "    *   **頭部：** 頭部較大，口鼻部相對較長，耳朵較小且圓。\n",
       "\n",
       "2.  **分佈與棲息地：**\n",
       "    *   棕熊是分佈最廣泛的熊類，遍布北美洲（阿拉斯加、加拿大、美國部分州）、歐洲和亞洲的許多地區。\n",
       "    *   牠們能夠適應多種棲息地，包括森林、山區、苔原、草原和海岸地區。\n",
       "\n",
       "3.  **食性：**\n",
       "    *   棕熊是典型的**雜食性動物**，食譜非常廣泛，這也是牠們適應力強的原因之一。\n",
       "    *   **植物性食物：** 包括各種漿果、堅果、根莖、草、蘑菇等。\n",
       "    *   **動物性食物：** 魚類（尤其是產卵期的鮭魚）、昆蟲（如螞蟻和白蟻）、小型哺乳動物（如囓齒動物）、鳥類和牠們的蛋，有時也會捕食大型哺乳動物的幼崽（如麋鹿或馴鹿幼崽）或食用腐肉。\n",
       "\n",
       "4.  **行為特徵：**\n",
       "    *   **獨居：** 大多數棕熊是獨居動物，只在繁殖季節或有大量食物來源（如鮭魚迴游）時才會聚集。\n",
       "    *   **冬眠：** 在食物匱乏的寒冷季節，棕熊會進入冬眠狀態，在洞穴或巢穴中度過數月。\n",
       "    *   **嗅覺靈敏：** 牠們的嗅覺非常敏銳，能聞到數公里外的食物氣味。\n",
       "    *   **游泳和奔跑：** 棕熊是優秀的游泳者，也能以驚人的速度奔跑（短距離可達50公里/小時）。\n",
       "\n",
       "5.  **保育狀況：**\n",
       "    *   在全球範圍內，棕熊被列為「無危」物種。但在某些地區，由於棲息地喪失、碎片化以及人類活動（如非法捕獵、與農牧業衝突），牠們的族群面臨威脅，一些亞種已被列為瀕危。\n",
       "\n",
       "6.  **與人類的關係：**\n",
       "    *   棕熊通常會避免與人類接觸。然而，如果牠們受到威脅、保護幼崽或食物，或者被人為餵食而習慣了人類的存在，可能會變得具有攻擊性。因此，在棕熊棲息地活動時，遵守熊安全指南（如妥善保管食物、攜帶防熊噴霧）非常重要。"
      ],
      "text/plain": [
       "<IPython.core.display.Markdown object>"
      ]
     },
     "metadata": {},
     "output_type": "display_data"
    }
   ],
   "source": [
    "import PIL.Image\n",
    "from google import genai\n",
    "from IPython.display import display, Markdown\n",
    "\n",
    "client = genai.Client()\n",
    "image = PIL.Image.open('bear.jpg')\n",
    "response = client.models.generate_content(\n",
    "    model=\"gemini-2.5-flash\",\n",
    "    contents=[image, \"請告訴我這是什麼動物,還有關於它的一些資訊\"]\n",
    ")\n",
    "\n",
    "display(Markdown(response.text))"
   ]
  },
  {
   "cell_type": "code",
   "execution_count": 8,
   "id": "c5b6eac9",
   "metadata": {},
   "outputs": [
    {
     "name": "stdout",
     "output_type": "stream",
     "text": [
      "好的，謝謝告知！\n",
      "\n",
      "真不錯！牠們是什麼品種的呢？或者牠們可愛嗎？\n",
      "\n",
      "如果你有任何關於狗狗的問題，或者想分享牠們的趣事，都可以告訴我喔！好的，如果你有2隻狗在家裡，而且每隻狗都有4隻爪子，那麼你家裡總共有：\n",
      "\n",
      "2 隻狗 x 4 隻爪子/狗 = **8 隻爪子**\n",
      "\n",
      "哇，好多可愛的爪子！希望牠們都很開心、很健康！role - user: 我有2隻狗在我的房子內\n",
      "role - model: 好的，謝謝告知！\n",
      "\n",
      "真不錯！牠們是什麼品種的呢？或者牠們可愛嗎？\n",
      "\n",
      "如果你有任何關於狗狗的問題，或者想分享牠們的趣事，都可以告訴我喔！\n",
      "role - user: 在我家裏有多少爪子?\n",
      "role - model: 好的，如果你有2隻狗在家裡，而且每隻狗都有4隻爪子，那麼你家裡總共有：\n",
      "\n",
      "2 隻狗 x 4 隻爪子/狗 = **8 隻爪子**\n",
      "role - model: \n",
      "\n",
      "哇，好多可愛的爪子！希望牠們都很開心、很健康！\n"
     ]
    }
   ],
   "source": [
    "from google import genai\n",
    "\n",
    "client = genai.Client()\n",
    "chat = client.chats.create(model=\"gemini-2.5-flash\")\n",
    "\n",
    "response = chat.send_message_stream(\"我有2隻狗在我的房子內\")\n",
    "for chunk in response:\n",
    "    print(chunk.text, end=\"\")\n",
    "\n",
    "response = chat.send_message_stream('在我家裏有多少爪子?')\n",
    "for chunk in response:\n",
    "    print(chunk.text, end=\"\")\n",
    "\n",
    "for message in chat.get_history():\n",
    "    print(f'role - {message.role}', end=\": \")\n",
    "    print(message.parts[0].text)"
   ]
  }
 ],
 "metadata": {
  "kernelspec": {
   "display_name": "line_bot",
   "language": "python",
   "name": "python3"
  },
  "language_info": {
   "codemirror_mode": {
    "name": "ipython",
    "version": 3
   },
   "file_extension": ".py",
   "mimetype": "text/x-python",
   "name": "python",
   "nbconvert_exporter": "python",
   "pygments_lexer": "ipython3",
   "version": "3.12.11"
  }
 },
 "nbformat": 4,
 "nbformat_minor": 5
}
